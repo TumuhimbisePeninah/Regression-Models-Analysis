{
 "cells": [
  {
   "cell_type": "markdown",
   "metadata": {},
   "source": [
    "# Regression Analysis\n",
    "By Atwine Mugume Twinamatsiko\n",
    "\n",
    "In this notebook, I am going to go through different models of regression while doing a thorough run through the methods as much as I can.\n",
    "\n",
    "This notebook is intended for study purposed, I have compiled it with the heart of helping someone out there who may have just begun their journey in AI and ML to get started easily.\n",
    "\n",
    "I will be using the Scikit Learn documentation to get the implementation of the methods  in the various regression models.\n",
    "\n",
    "[Here is the link](https://scikit-learn.org/stable/)\n",
    "\n",
    "I will also be getting data from Yahoo finance [here](https://finance.yahoo.com/quote/AAPL/history?p=AAPL)\n",
    "\n",
    "The models I am going to look at are:\n",
    "\n",
    "- Linear Regression\n",
    "- Ridge Regression\n",
    "- Support Vector Machines\n",
    "- Stochastic Gradient Descent Regression"
   ]
  },
  {
   "cell_type": "code",
   "execution_count": null,
   "metadata": {},
   "outputs": [],
   "source": []
  }
 ],
 "metadata": {
  "kernelspec": {
   "display_name": "Python 3",
   "language": "python",
   "name": "python3"
  },
  "language_info": {
   "codemirror_mode": {
    "name": "ipython",
    "version": 3
   },
   "file_extension": ".py",
   "mimetype": "text/x-python",
   "name": "python",
   "nbconvert_exporter": "python",
   "pygments_lexer": "ipython3",
   "version": "3.6.4"
  }
 },
 "nbformat": 4,
 "nbformat_minor": 2
}
